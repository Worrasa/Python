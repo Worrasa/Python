{
 "cells": [
  {
   "cell_type": "code",
   "execution_count": null,
   "metadata": {},
   "outputs": [],
   "source": [
    "'''\n",
    "    โปรแกรม คำนวนธนบัตร ATM\n",
    "    วรศักิ์ ทำมา 6412732112\n",
    "'''\n",
    "\n",
    "\n",
    "money = int(input(\"จำนวนเงิน >> \"))\n",
    "item = [1000,500,100]\n",
    "print(f\"จำนวนเงิน {money}\")\n",
    "\n",
    "for i in item:\n",
    "    result = money // i\n",
    "    money = money % i\n",
    "    print(f\"ธนบัตร {i:4} จำนวน {result}\")"
   ]
  }
 ],
 "metadata": {
  "language_info": {
   "name": "python"
  },
  "orig_nbformat": 4
 },
 "nbformat": 4,
 "nbformat_minor": 2
}
