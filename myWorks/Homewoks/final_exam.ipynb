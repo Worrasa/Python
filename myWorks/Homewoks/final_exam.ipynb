{
 "cells": [
  {
   "cell_type": "markdown",
   "metadata": {},
   "source": [
    "# ข้อสอบปลายภาควิชา การเขียนโปรแกรมเชิงวัตถุ"
   ]
  },
  {
   "cell_type": "code",
   "execution_count": null,
   "metadata": {},
   "outputs": [],
   "source": [
    "\"\"\"\n",
    "ชื่อ - สกุล - รหัส\n",
    "\n",
    "วรศักดิ์ ทำมา 6412732112\n",
    "\"\"\""
   ]
  },
  {
   "cell_type": "markdown",
   "metadata": {},
   "source": [
    "## 1. จงเขียนโปรแกรมเพื่อให้ได้ผลลัพธ์ดังต่อไปนี้ \n",
    "\n",
    "จงเขียนโปรแกรมที่พิมพ์ตัวเลขตั้งแต่ 1 ถึง 50 <strong>ยกเว้นตัวเลขที่หารด้วย 5 ลงตัว</strong>\n",
    "\n",
    "โดยให้ใช้คำสั่ง continue เช่น 1 2 4 6 7 8 9 11 … เป็นต้น"
   ]
  },
  {
   "cell_type": "code",
   "execution_count": 1,
   "metadata": {},
   "outputs": [
    {
     "name": "stdout",
     "output_type": "stream",
     "text": [
      "1 2 3 4 6 7 8 9 11 12 13 14 16 17 18 19 21 22 23 24 26 27 28 29 31 32 33 34 36 37 38 39 41 42 43 44 46 47 48 49 "
     ]
    }
   ],
   "source": [
    "# เขียนโปรแกรมในช่องนี้\n",
    "\n",
    "for i in range(1,51): \n",
    "    if i % 5 == 0:\n",
    "        continue\n",
    "    print(i,end=\" \")"
   ]
  },
  {
   "cell_type": "markdown",
   "metadata": {},
   "source": [
    "## 2.จงเขียนโปรแกรมไพธอนเพื่อรับข้อมูล ที่เป็นชื่อผู้ใช้งานจากแป้นพิมพ์และแสดงออกทางหน้าจอ"
   ]
  },
  {
   "cell_type": "code",
   "execution_count": 2,
   "metadata": {},
   "outputs": [
    {
     "name": "stdout",
     "output_type": "stream",
     "text": [
      "Game\n"
     ]
    }
   ],
   "source": [
    "# เขียนโปรแกรมในช่องนี้\n",
    "\n",
    "name = input (\"Enter you name:\")\n",
    "print(name)"
   ]
  },
  {
   "cell_type": "markdown",
   "metadata": {},
   "source": [
    "## 3.จงเขียนโปรแกรมเพื่อให้ได้ผลลัพธ์ดังต่อไปนี้\n",
    "\n",
    "จงเขียนโปรแกรมเพื่อแสดงรูปแบบต่อไปนี้ โดยการรับค่าจำนวนสูงสุดจากผู้ใช้"
   ]
  },
  {
   "cell_type": "code",
   "execution_count": null,
   "metadata": {},
   "outputs": [],
   "source": [
    "\"\"\"\n",
    "ป้อนเลข 9\n",
    "\n",
    "1\n",
    "22\n",
    "333\n",
    "4444\n",
    "55555\n",
    "666666\n",
    "7777777\n",
    "88888888\n",
    "999999999\n",
    "\"\"\""
   ]
  },
  {
   "cell_type": "code",
   "execution_count": 3,
   "metadata": {},
   "outputs": [
    {
     "name": "stdout",
     "output_type": "stream",
     "text": [
      "1\n",
      "22\n",
      "333\n",
      "4444\n",
      "55555\n",
      "666666\n",
      "7777777\n",
      "88888888\n",
      "999999999\n"
     ]
    }
   ],
   "source": [
    "# เขียนโปรแกรมในช่องนี้\n",
    "\n",
    "for i in range(1,10):\n",
    "    print(str(i)*i)"
   ]
  },
  {
   "cell_type": "markdown",
   "metadata": {},
   "source": [
    "## 4.กำหนดให้ \n",
    "\n",
    "str = \"Python Programming\"\n",
    "\n",
    "จงเขียนโปรแกรมที่แสดงผลเฉพาะคำว่า Programming จาก str"
   ]
  },
  {
   "cell_type": "code",
   "execution_count": 4,
   "metadata": {},
   "outputs": [
    {
     "name": "stdout",
     "output_type": "stream",
     "text": [
      "Programming\n"
     ]
    }
   ],
   "source": [
    "# เขียนโปรแกรมในช่องนี้\n",
    "text = \"python Programming\"\n",
    "print(text[7:])\n"
   ]
  },
  {
   "cell_type": "markdown",
   "metadata": {},
   "source": [
    "## 5.จงเขียนโปรแกรมเพื่อให้ได้ผลลัพธ์ดังต่อไปนี้\n",
    "\n",
    "จงเขียนฟังก์ชันที่ทำหน้าที่กลับสตริงจากหน้าเป็นหลัง \n",
    "\n",
    "โดยมีการส่งอาร์กิวเมนต์ที่เป็นสติงไปให้ฟังก์ชันทำงาน เช่น"
   ]
  },
  {
   "cell_type": "code",
   "execution_count": null,
   "metadata": {},
   "outputs": [],
   "source": [
    "\"\"\"\n",
    "Argument String: \"1234abcd\"\n",
    "Expected Output: \"dcba4321\"\n",
    "\"\"\""
   ]
  },
  {
   "cell_type": "code",
   "execution_count": 6,
   "metadata": {},
   "outputs": [
    {
     "name": "stdout",
     "output_type": "stream",
     "text": [
      "dcba4321\n"
     ]
    }
   ],
   "source": [
    "# เขียนโปรแกรมในช่องนี้\n",
    "text = \"1234abcd\"\n",
    "print(text[::-1])\n"
   ]
  },
  {
   "cell_type": "code",
   "execution_count": null,
   "metadata": {},
   "outputs": [],
   "source": []
  }
 ],
 "metadata": {
  "kernelspec": {
   "display_name": "Python 3",
   "language": "python",
   "name": "python3"
  },
  "language_info": {
   "codemirror_mode": {
    "name": "ipython",
    "version": 3
   },
   "file_extension": ".py",
   "mimetype": "text/x-python",
   "name": "python",
   "nbconvert_exporter": "python",
   "pygments_lexer": "ipython3",
   "version": "3.8.8"
  }
 },
 "nbformat": 4,
 "nbformat_minor": 4
}
